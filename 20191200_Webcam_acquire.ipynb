{
  "nbformat": 4,
  "nbformat_minor": 0,
  "metadata": {
    "colab": {
      "name": "20191200 Webcam acquire.ipynb",
      "provenance": [],
      "collapsed_sections": [
        "XuV76gLFhn_W"
      ],
      "toc_visible": true
    },
    "kernelspec": {
      "name": "python3",
      "display_name": "Python 3"
    }
  },
  "cells": [
    {
      "cell_type": "markdown",
      "metadata": {
        "id": "Mo-mTOzI9KjW",
        "colab_type": "text"
      },
      "source": [
        "## Demo Webcam acquisition"
      ]
    },
    {
      "cell_type": "code",
      "metadata": {
        "id": "2kHM43Hb9Dqn",
        "colab_type": "code",
        "outputId": "f87e8b9f-f8ec-430d-c77a-493b189f0058",
        "colab": {
          "base_uri": "https://localhost:8080/",
          "height": 34
        }
      },
      "source": [
        "# Imports\n",
        "from cv2 import *    ; print(f'  OpenCV          ver: {cv2.__version__}')\n",
        "# import cv2\n"
      ],
      "execution_count": 0,
      "outputs": [
        {
          "output_type": "stream",
          "text": [
            "  OpenCV          ver: 4.1.2\n"
          ],
          "name": "stdout"
        }
      ]
    },
    {
      "cell_type": "code",
      "metadata": {
        "id": "W7byYr7dLREr",
        "colab_type": "code",
        "colab": {}
      },
      "source": [
        "# Settings\n"
      ],
      "execution_count": 0,
      "outputs": []
    },
    {
      "cell_type": "markdown",
      "metadata": {
        "id": "q6ZZplrQsD96",
        "colab_type": "text"
      },
      "source": [
        "## Tools - Images"
      ]
    },
    {
      "cell_type": "code",
      "metadata": {
        "id": "pEZhge8F9Sho",
        "colab_type": "code",
        "colab": {}
      },
      "source": [
        "# Tools\n",
        "\n",
        "# Plaguarised from https://colab.research.google.com/notebooks/snippets/advanced_outputs.ipynb#scrollTo=buJCl90WhNfq\n",
        "from IPython.display import display, Javascript\n",
        "from google.colab.output import eval_js\n",
        "from base64 import b64decode\n",
        "\n",
        "def acquire_webcam_image_to_file(filename='photo.jpg', quality=0.8):\n",
        "\n",
        "  js = Javascript('''\n",
        "    async function takePhoto(quality) {\n",
        "      const div = document.createElement('div');\n",
        "      const capture = document.createElement('button');\n",
        "      capture.textContent = 'Capture Image';\n",
        "      div.appendChild(capture);\n",
        "\n",
        "      const video = document.createElement('video');\n",
        "      video.style.display = 'block';\n",
        "      const stream = await navigator.mediaDevices.getUserMedia({video: true});\n",
        "\n",
        "      document.body.appendChild(div);\n",
        "      div.appendChild(video);\n",
        "      video.srcObject = stream;\n",
        "      await video.play();\n",
        "\n",
        "      // Resize the output to fit the video element.\n",
        "      google.colab.output.setIframeHeight(document.documentElement.scrollHeight, true);\n",
        "\n",
        "      // Wait for Capture to be clicked.\n",
        "      await new Promise((resolve) => capture.onclick = resolve);\n",
        "      //await new Promise((resolve) => document.onload = resolve);\n",
        "\n",
        "      const canvas = document.createElement('canvas');\n",
        "      canvas.width = video.videoWidth;\n",
        "      canvas.height = video.videoHeight;\n",
        "      canvas.getContext('2d').drawImage(video, 0, 0);\n",
        "      stream.getVideoTracks()[0].stop();\n",
        "      div.remove();\n",
        "      return canvas.toDataURL('image/jpeg', quality);\n",
        "    }\n",
        "    ''')\n",
        "  display(js)\n",
        "  data_jpeg = eval_js('takePhoto({})'.format(quality))\n",
        "  bytes_jpeg = b64decode(data_jpeg.split(',')[1])\n",
        "  with open(filename, 'wb') as f:\n",
        "    f.write(bytes_jpeg)\n",
        "  return filename\n",
        "\n",
        "def save_image_to_file():\n",
        "    pass\n",
        "\n",
        "def get_image_from_file():\n",
        "    image = Image(filename)\n",
        "    return image\n",
        "\n",
        "def display_image():\n",
        "    pass\n",
        "\n",
        "# Test\n",
        "if False:\n",
        "    from IPython.display import Image\n",
        "    try:\n",
        "        # Acquire from webcam\n",
        "        filename = acquire_webcam_image_to_file()\n",
        "        print(f'Saved to {filename}')\n",
        "        \n",
        "        # Show the image which was just taken.\n",
        "        #display(Image(filename))\n",
        "\n",
        "    except Exception as err:\n",
        "        # Errors will be thrown if the user does not have a webcam or if they do not\n",
        "        # grant the page permission to access it.\n",
        "        print(str(err))\n"
      ],
      "execution_count": 0,
      "outputs": []
    },
    {
      "cell_type": "markdown",
      "metadata": {
        "id": "LvT79BXGsHyo",
        "colab_type": "text"
      },
      "source": [
        "## Tools - CNN"
      ]
    },
    {
      "cell_type": "code",
      "metadata": {
        "id": "70x5Rw57sLZK",
        "colab_type": "code",
        "colab": {}
      },
      "source": [
        "\n",
        "from keras.preprocessing.image import load_img\n",
        "from keras.preprocessing.image import img_to_array\n",
        "from keras.applications.vgg16 import preprocess_input\n",
        "from keras.applications.vgg16 import decode_predictions\n",
        "from keras.applications.vgg16 import VGG16\n",
        "\n",
        "# Load the trained VGG16 model\n",
        "model = VGG16()\n",
        "\n",
        "def get_class_from_image(filename):\n",
        "\n",
        "    # Load image from file\n",
        "    image = load_img(filename, target_size=(224, 224))\n",
        "    # convert the image pixels to a numpy array, reshape, and normalise\n",
        "    image = img_to_array(image)\n",
        "    image = image.reshape((1, image.shape[0], image.shape[1], image.shape[2]))\n",
        "    #image = preprocess_input(image)\n",
        "\n",
        "    # Predict probabilities across all output classes\n",
        "    yhat = model.predict(image)\n",
        "    labels = decode_predictions(yhat)  #; print(labels)\n",
        "\n",
        "    # print the classification\n",
        "    most_likely_class_label = labels[0][0]\n",
        "    #print(f'{most_likely_class_label[1]} ({most_likely_class_label[2]*100:.3f}%)' )\n",
        "\n",
        "    return most_likely_class_label[1], most_likely_class_label[2]\n",
        "                                        \n",
        "# Test\n",
        "if False:\n",
        "    class_name, probability = get_class_from_image('photo.jpg')\n",
        "    print(f'{class_name} ({probability*100:.2f}%)' )"
      ],
      "execution_count": 0,
      "outputs": []
    },
    {
      "cell_type": "markdown",
      "metadata": {
        "id": "KEoHSD1514GC",
        "colab_type": "text"
      },
      "source": [
        "## Main"
      ]
    },
    {
      "cell_type": "code",
      "metadata": {
        "id": "sp4HcyAZ9T1U",
        "colab_type": "code",
        "outputId": "bf784fcd-8e17-4bbe-a954-0953543257a5",
        "colab": {
          "base_uri": "https://localhost:8080/",
          "height": 518
        }
      },
      "source": [
        "# Main\n",
        "from IPython.display import Image, clear_output\n",
        "import time\n",
        "\n",
        "# Load CNN\n",
        "\n",
        "# Loop displaying image\n",
        "while True:\n",
        "\n",
        "    try:\n",
        "        # Acquire image\n",
        "        filename = acquire_webcam_image_to_file()  #; print(f'Saved to {filename}')\n",
        "        display(Image(filename))\n",
        "\n",
        "        # Identify\n",
        "        class_name, probability = get_class_from_image(filename)\n",
        "        # print(f'{class_name} ({probability*100:.2f}%)' )\n",
        "        print(f'Most likely:\\n\\n    {class_name}     ({probability*100:.2f}%)\\n' )\n",
        "\n",
        "    except Exception as err:\n",
        "        # Errors will be thrown if the user does not have a webcam or if they do not\n",
        "        # grant the page permission to access it.\n",
        "        print(str(err))\n",
        "\n",
        "    # WWait and clear output cell\n",
        "    time.sleep(3)\n",
        "    clear_output()\n",
        "\n",
        "\n",
        "\n"
      ],
      "execution_count": 0,
      "outputs": [
        {
          "output_type": "display_data",
          "data": {
            "application/javascript": [
              "\n",
              "    async function takePhoto(quality) {\n",
              "      const div = document.createElement('div');\n",
              "      const capture = document.createElement('button');\n",
              "      capture.textContent = 'Capture Image';\n",
              "      div.appendChild(capture);\n",
              "\n",
              "      const video = document.createElement('video');\n",
              "      video.style.display = 'block';\n",
              "      const stream = await navigator.mediaDevices.getUserMedia({video: true});\n",
              "\n",
              "      document.body.appendChild(div);\n",
              "      div.appendChild(video);\n",
              "      video.srcObject = stream;\n",
              "      await video.play();\n",
              "\n",
              "      // Resize the output to fit the video element.\n",
              "      google.colab.output.setIframeHeight(document.documentElement.scrollHeight, true);\n",
              "\n",
              "      // Wait for Capture to be clicked.\n",
              "      await new Promise((resolve) => capture.onclick = resolve);\n",
              "      //await new Promise((resolve) => document.onload = resolve);\n",
              "\n",
              "      const canvas = document.createElement('canvas');\n",
              "      canvas.width = video.videoWidth;\n",
              "      canvas.height = video.videoHeight;\n",
              "      canvas.getContext('2d').drawImage(video, 0, 0);\n",
              "      stream.getVideoTracks()[0].stop();\n",
              "      div.remove();\n",
              "      return canvas.toDataURL('image/jpeg', quality);\n",
              "    }\n",
              "    "
            ],
            "text/plain": [
              "<IPython.core.display.Javascript object>"
            ]
          },
          "metadata": {
            "tags": []
          }
        }
      ]
    },
    {
      "cell_type": "code",
      "metadata": {
        "id": "ZMgUukddhm6r",
        "colab_type": "code",
        "colab": {}
      },
      "source": [
        ""
      ],
      "execution_count": 0,
      "outputs": []
    },
    {
      "cell_type": "markdown",
      "metadata": {
        "id": "XuV76gLFhn_W",
        "colab_type": "text"
      },
      "source": [
        "## Scratch"
      ]
    }
  ]
}